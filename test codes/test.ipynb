{
 "cells": [
  {
   "cell_type": "code",
   "execution_count": 5,
   "metadata": {},
   "outputs": [
    {
     "name": "stdout",
     "output_type": "stream",
     "text": [
      "Defaulting to user installation because normal site-packages is not writeable\n",
      "Requirement already satisfied: oauth2client in c:\\users\\cheok\\appdata\\roaming\\python\\python39\\site-packages (3.0.0)\n",
      "Collecting oauth2client\n",
      "  Downloading oauth2client-4.1.3-py2.py3-none-any.whl (98 kB)\n",
      "Requirement already satisfied: pyasn1>=0.1.7 in c:\\programdata\\anaconda3\\lib\\site-packages (from oauth2client) (0.4.8)\n",
      "Requirement already satisfied: six>=1.6.1 in c:\\programdata\\anaconda3\\lib\\site-packages (from oauth2client) (1.16.0)\n",
      "Requirement already satisfied: httplib2>=0.9.1 in c:\\users\\cheok\\appdata\\roaming\\python\\python39\\site-packages (from oauth2client) (0.22.0)\n",
      "Requirement already satisfied: pyasn1-modules>=0.0.5 in c:\\programdata\\anaconda3\\lib\\site-packages (from oauth2client) (0.2.8)\n",
      "Requirement already satisfied: rsa>=3.1.4 in c:\\programdata\\anaconda3\\lib\\site-packages (from oauth2client) (4.7.2)\n",
      "Requirement already satisfied: pyparsing!=3.0.0,!=3.0.1,!=3.0.2,!=3.0.3,<4,>=2.4.2 in c:\\programdata\\anaconda3\\lib\\site-packages (from httplib2>=0.9.1->oauth2client) (3.0.4)\n",
      "Installing collected packages: oauth2client\n",
      "  Attempting uninstall: oauth2client\n",
      "    Found existing installation: oauth2client 3.0.0\n",
      "    Uninstalling oauth2client-3.0.0:\n",
      "      Successfully uninstalled oauth2client-3.0.0\n",
      "Successfully installed oauth2client-4.1.3"
     ]
    },
    {
     "name": "stderr",
     "output_type": "stream",
     "text": [
      "ERROR: pip's dependency resolver does not currently take into account all the packages that are installed. This behaviour is the source of the following dependency conflicts.\n",
      "pyrebase 3.0.27 requires oauth2client==3.0.0, but you have oauth2client 4.1.3 which is incompatible.\n"
     ]
    },
    {
     "name": "stdout",
     "output_type": "stream",
     "text": [
      "\n"
     ]
    }
   ],
   "source": [
    "! pip install --upgrade oauth2client"
   ]
  },
  {
   "cell_type": "code",
   "execution_count": 1,
   "metadata": {},
   "outputs": [
    {
     "ename": "SyntaxError",
     "evalue": "invalid syntax (number.py, line 398)",
     "output_type": "error",
     "traceback": [
      "Traceback \u001b[1;36m(most recent call last)\u001b[0m:\n",
      "  File \u001b[0;32mc:\\ProgramData\\Anaconda3\\lib\\site-packages\\IPython\\core\\interactiveshell.py:3369\u001b[0m in \u001b[0;35mrun_code\u001b[0m\n    exec(code_obj, self.user_global_ns, self.user_ns)\n",
      "  Input \u001b[0;32mIn [1]\u001b[0m in \u001b[0;35m<cell line: 1>\u001b[0m\n    import pyrebase\n",
      "  File \u001b[0;32m~\\AppData\\Roaming\\Python\\Python39\\site-packages\\pyrebase\\__init__.py:1\u001b[0m in \u001b[0;35m<module>\u001b[0m\n    from .pyrebase import initialize_app\n",
      "  File \u001b[0;32m~\\AppData\\Roaming\\Python\\Python39\\site-packages\\pyrebase\\pyrebase.py:17\u001b[0m in \u001b[0;35m<module>\u001b[0m\n    from oauth2client.service_account import ServiceAccountCredentials\n",
      "  File \u001b[0;32m~\\AppData\\Roaming\\Python\\Python39\\site-packages\\oauth2client\\service_account.py:25\u001b[0m in \u001b[0;35m<module>\u001b[0m\n    from oauth2client import client\n",
      "  File \u001b[0;32m~\\AppData\\Roaming\\Python\\Python39\\site-packages\\oauth2client\\client.py:45\u001b[0m in \u001b[0;35m<module>\u001b[0m\n    from oauth2client import crypt\n",
      "  File \u001b[0;32m~\\AppData\\Roaming\\Python\\Python39\\site-packages\\oauth2client\\crypt.py:55\u001b[0m in \u001b[0;35m<module>\u001b[0m\n    from oauth2client import _pycrypto_crypt\n",
      "  File \u001b[0;32m~\\AppData\\Roaming\\Python\\Python39\\site-packages\\oauth2client\\_pycrypto_crypt.py:17\u001b[0m in \u001b[0;35m<module>\u001b[0m\n    from Crypto.PublicKey import RSA\n",
      "  File \u001b[0;32m~\\AppData\\Roaming\\Python\\Python39\\site-packages\\Crypto\\PublicKey\\__init__.py:29\u001b[0m in \u001b[0;35m<module>\u001b[0m\n    from Crypto.Util.asn1 import (DerSequence, DerInteger, DerBitString,\n",
      "\u001b[1;36m  File \u001b[1;32m~\\AppData\\Roaming\\Python\\Python39\\site-packages\\Crypto\\Util\\asn1.py:33\u001b[1;36m in \u001b[1;35m<module>\u001b[1;36m\u001b[0m\n\u001b[1;33m    from Crypto.Util.number import long_to_bytes, bytes_to_long\u001b[0m\n",
      "\u001b[1;36m  File \u001b[1;32m~\\AppData\\Roaming\\Python\\Python39\\site-packages\\Crypto\\Util\\number.py:398\u001b[1;36m\u001b[0m\n\u001b[1;33m    s = pack('>I', n & 0xffffffffL) + s\u001b[0m\n\u001b[1;37m                                 ^\u001b[0m\n\u001b[1;31mSyntaxError\u001b[0m\u001b[1;31m:\u001b[0m invalid syntax\n"
     ]
    }
   ],
   "source": [
    "import pyrebase"
   ]
  }
 ],
 "metadata": {
  "kernelspec": {
   "display_name": "base",
   "language": "python",
   "name": "python3"
  },
  "language_info": {
   "codemirror_mode": {
    "name": "ipython",
    "version": 3
   },
   "file_extension": ".py",
   "mimetype": "text/x-python",
   "name": "python",
   "nbconvert_exporter": "python",
   "pygments_lexer": "ipython3",
   "version": "3.9.12"
  },
  "orig_nbformat": 4
 },
 "nbformat": 4,
 "nbformat_minor": 2
}
